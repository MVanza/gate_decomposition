{
 "cells": [
  {
   "cell_type": "markdown",
   "id": "09b863ad",
   "metadata": {},
   "source": [
    "# Алгоритм Соловей-Китаева"
   ]
  },
  {
   "cell_type": "markdown",
   "id": "3f8e107d",
   "metadata": {},
   "source": [
    "### Описание алгоритма"
   ]
  },
  {
   "cell_type": "code",
   "execution_count": null,
   "id": "3da924f2",
   "metadata": {},
   "outputs": [],
   "source": [
    "class SK_decomposition:\n",
    "    \"\"\"\n",
    "    TODO\n",
    "    \"\"\"\n",
    "    \n",
    "    def __init__(U, eps, gates):\n",
    "        self.U = U\n",
    "        self.n = 0\n",
    "        self.eps = eps\n",
    "        self.decomp = []\n",
    "        self.gates = gates\n",
    "        \n",
    "    def basic_decomp(U, eps):\n",
    "        pass\n",
    "    \n",
    "    def GC_decomp(U):\n",
    "        pass\n",
    "    \n",
    "    def run(n):\n",
    "        pass"
   ]
  }
 ],
 "metadata": {
  "kernelspec": {
   "display_name": "Python 3 (ipykernel)",
   "language": "python",
   "name": "python3"
  },
  "language_info": {
   "codemirror_mode": {
    "name": "ipython",
    "version": 3
   },
   "file_extension": ".py",
   "mimetype": "text/x-python",
   "name": "python",
   "nbconvert_exporter": "python",
   "pygments_lexer": "ipython3",
   "version": "3.8.10"
  }
 },
 "nbformat": 4,
 "nbformat_minor": 5
}
