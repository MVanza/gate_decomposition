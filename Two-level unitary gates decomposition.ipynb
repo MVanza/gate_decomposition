{
 "cells": [
  {
   "cell_type": "code",
   "execution_count": 2,
   "id": "d4990d8e",
   "metadata": {},
   "outputs": [],
   "source": [
    "import numpy as np"
   ]
  },
  {
   "cell_type": "markdown",
   "id": "96ab252f",
   "metadata": {},
   "source": [
    "## Разложение произвольной унитарной матрицы на произведение двухуровневых\n",
    "\n",
    "Алгоритм был взят из книги ''Quantum Computation and Quantum Information'' Michael A. Nielsen & Isaac L. Chuang, глава 4.5.1. Суть алгоритма заключается в рекурсивном приведении матрицы к единичной, используя свойства унитарных матриц.\n",
    "\n",
    "Конкретнее:\n",
    "1. В первом столбце обнулим все значения, кроме первого. Первый приведём к единице\n",
    "2. Первая строка (за исключением первого элемента) обнулится автоматический из свойств унитарных матриц.\n",
    "3. Переходим на матрицу размерности меньше на 1 и повторяем алгоритм.\n",
    "4. Когда доходим до матрицы 2x2, просто домножаем на эрмитово сопряженную ($UU^{\\dagger} = I$).\n",
    "5. В итоге получим набор $U_n$ унитарных двухуровневых матриц, которые удовлетворяют условию $U_{n-1}U_{n-2}...U_1U = I$, где $U$ - первоначальная матрица"
   ]
  },
  {
   "cell_type": "code",
   "execution_count": 3,
   "id": "871a7e2b",
   "metadata": {},
   "outputs": [
    {
     "data": {
      "text/plain": [
       "array([[ 0.5+0.j ,  0.5+0.j ,  0.5+0.j ,  0.5+0.j ],\n",
       "       [ 0.5+0.j ,  0. +0.5j, -0.5+0.j ,  0. -0.5j],\n",
       "       [ 0.5+0.j , -0.5+0.j ,  0.5+0.j , -0.5+0.j ],\n",
       "       [ 0.5+0.j ,  0. -0.5j, -0.5+0.j ,  0. +0.5j]])"
      ]
     },
     "execution_count": 3,
     "metadata": {},
     "output_type": "execute_result"
    }
   ],
   "source": [
    "# примеры матриц для тестирования\n",
    "H = 1/np.sqrt(2) * np.array([[1, 1], [1, -1]])\n",
    "CNOT = np.array([[1, 0, 0, 0], [0, 1, 0, 0], [0, 0, 0, 1], [0, 0, 1, 0]])\n",
    "QFT = 1/2 * np.array([[1, 1, 1, 1], [1, complex(0, 1), -1, complex(0, -1)], [1, -1, 1, -1], [1, complex(0, -1), -1, complex(0, 1)]])\n",
    "F"
   ]
  },
  {
   "cell_type": "code",
   "execution_count": 77,
   "id": "7b63787d",
   "metadata": {},
   "outputs": [],
   "source": [
    "# функция для проверки нулевых значений с учетом погрешности машинной точности\n",
    "def zero_checker(matrix):\n",
    "    temp_matrix = matrix\n",
    "    for i in range(len(matrix)):\n",
    "        for j in range(len(matrix)):\n",
    "            if abs(np.real(matrix[i, j])) < 1e-15:\n",
    "                temp_matrix[i, j] = complex(0, np.imag(matrix[i, j]))\n",
    "            if abs(np.imag(matrix[i, j])) < 1e-15:\n",
    "                temp_matrix[i, j] = complex(np.real(matrix[i, j]), 0)\n",
    "    return temp_matrix"
   ]
  },
  {
   "cell_type": "code",
   "execution_count": 127,
   "id": "ae7f8d75",
   "metadata": {},
   "outputs": [],
   "source": [
    "def unitary_decomposition(matrix, stride = 0):\n",
    "    \"\"\"\n",
    "    Функция декомпозиции. На вход принимает унитарную матрицу, \n",
    "    разложение которой нужно найти. Параметр произведения операций\n",
    "    над матрицей меньших размеров, без изменения размера стартовой матрицы.\n",
    "    Возвращает список двухуровневых матриц в \"правильном\" порядке:\n",
    "    [U_1, U_2, U_3] -> U_3*U_2*U_1*U = I\n",
    "    \"\"\"\n",
    "    column = matrix[:, stride]\n",
    "    two_level_matrixes = []\n",
    "    prod_res = matrix\n",
    "    column_len = len(column)\n",
    "    # Проверка размерности матрицы. Если матрица два на два - рекурсия заканчивается\n",
    "    if column_len - stride != 2:\n",
    "        for i in range(1+stride, column_len):\n",
    "            if column[i] != complex(0.+0.j):\n",
    "                abs_sum = np.sqrt(abs(column[i])**2 + abs(column[stride])**2)\n",
    "                tlm = np.eye(column_len, dtype=complex)\n",
    "                \n",
    "                tlm[stride, stride] = np.conj(column[stride])/complex(abs_sum, 0)\n",
    "                tlm[stride, i] = np.conj(column[i])/complex(abs_sum, 0)\n",
    "                tlm[i, stride] = column[i]/complex(abs_sum, 0)\n",
    "                tlm[i, i] = -column[stride]/complex(abs_sum, 0)\n",
    "                \n",
    "                two_level_matrixes.append(tlm)\n",
    "                prod_res = np.matmul(tlm, prod_res)\n",
    "                column = prod_res[:, stride]\n",
    "            else:\n",
    "                # Для последнего элемента алгоритм немного отличается\n",
    "                if i == column_len - 1:\n",
    "                    tlm = np.eye(column_len, d_type='complex_')\n",
    "                    tlm[stride, stride] = np.conj(column[stride])\n",
    "                    two_level_matrixes.append(tlm)\n",
    "                    prod_res = np.matmul(tlm, prod_res)\n",
    "                    column = prod_res[:, stride]\n",
    "                else:\n",
    "                    tlm = np.eye(column_len)\n",
    "                    two_level_matrixes.append(tlm)\n",
    "            prod_res = zero_checker(prod_res)\n",
    "        return two_level_matrixes + unitary_decomposition(prod_res, stride + 1)\n",
    "    else:\n",
    "        tlm = np.transpose(np.conj(prod_res))\n",
    "        return [tlm]"
   ]
  },
  {
   "cell_type": "code",
   "execution_count": 128,
   "id": "440fb667",
   "metadata": {},
   "outputs": [
    {
     "data": {
      "text/plain": [
       "[array([[ 0.70710678-0.j,  0.70710678-0.j,  0.        +0.j,\n",
       "          0.        +0.j],\n",
       "        [ 0.70710678+0.j, -0.70710678+0.j,  0.        +0.j,\n",
       "          0.        +0.j],\n",
       "        [ 0.        +0.j,  0.        +0.j,  1.        +0.j,\n",
       "          0.        +0.j],\n",
       "        [ 0.        +0.j,  0.        +0.j,  0.        +0.j,\n",
       "          1.        +0.j]]),\n",
       " array([[ 0.81649658-0.j,  0.        +0.j,  0.57735027-0.j,\n",
       "          0.        +0.j],\n",
       "        [ 0.        +0.j,  1.        +0.j,  0.        +0.j,\n",
       "          0.        +0.j],\n",
       "        [ 0.57735027+0.j,  0.        +0.j, -0.81649658+0.j,\n",
       "          0.        +0.j],\n",
       "        [ 0.        +0.j,  0.        +0.j,  0.        +0.j,\n",
       "          1.        +0.j]]),\n",
       " array([[ 0.8660254-0.j,  0.       +0.j,  0.       +0.j,  0.5      -0.j],\n",
       "        [ 0.       +0.j,  1.       +0.j,  0.       +0.j,  0.       +0.j],\n",
       "        [ 0.       +0.j,  0.       +0.j,  1.       +0.j,  0.       +0.j],\n",
       "        [ 0.5      +0.j,  0.       +0.j,  0.       +0.j, -0.8660254+0.j]]),\n",
       " array([[ 1.       +0.j       ,  0.       +0.j       ,\n",
       "          0.       +0.j       ,  0.       +0.j       ],\n",
       "        [ 0.       +0.j       ,  0.4330127+0.4330127j,\n",
       "          0.75     -0.25j     ,  0.       +0.j       ],\n",
       "        [ 0.       +0.j       ,  0.75     +0.25j     ,\n",
       "         -0.4330127+0.4330127j,  0.       +0.j       ],\n",
       "        [ 0.       +0.j       ,  0.       +0.j       ,\n",
       "          0.       +0.j       ,  1.       +0.j       ]]),\n",
       " array([[ 1.        +0.j        ,  0.        +0.j        ,\n",
       "          0.        +0.j        ,  0.        +0.j        ],\n",
       "        [ 0.        +0.j        ,  0.81649658-0.j        ,\n",
       "          0.        +0.j        ,  0.        -0.57735027j],\n",
       "        [ 0.        +0.j        ,  0.        +0.j        ,\n",
       "          1.        +0.j        ,  0.        +0.j        ],\n",
       "        [ 0.        +0.j        ,  0.        +0.57735027j,\n",
       "          0.        +0.j        , -0.81649658+0.j        ]]),\n",
       " array([[ 1.        -0.j        ,  0.        -0.j        ,\n",
       "          0.        -0.j        ,  0.        -0.j        ],\n",
       "        [ 0.        -0.j        ,  1.        -0.j        ,\n",
       "          0.        -0.j        ,  0.        -0.j        ],\n",
       "        [ 0.        -0.j        ,  0.        -0.j        ,\n",
       "          0.70710678-0.j        , -0.70710678-0.j        ],\n",
       "        [ 0.        -0.j        ,  0.        -0.j        ,\n",
       "          0.        -0.70710678j,  0.        -0.70710678j]])]"
      ]
     },
     "execution_count": 128,
     "metadata": {},
     "output_type": "execute_result"
    }
   ],
   "source": [
    "test = unitary_decomposition(F)\n",
    "test"
   ]
  },
  {
   "cell_type": "markdown",
   "id": "a02ea5a0",
   "metadata": {},
   "source": [
    "Протестируем вручную с матрицей F"
   ]
  },
  {
   "cell_type": "code",
   "execution_count": 136,
   "id": "8cb418c8",
   "metadata": {},
   "outputs": [
    {
     "data": {
      "text/plain": [
       "array([[ 0.70710678+0.j        ,  0.35355339+0.35355339j,\n",
       "         0.        +0.j        ,  0.35355339-0.35355339j],\n",
       "       [ 0.        +0.j        ,  0.35355339-0.35355339j,\n",
       "         0.70710678+0.j        ,  0.35355339+0.35355339j],\n",
       "       [ 0.5       +0.j        , -0.5       +0.j        ,\n",
       "         0.5       +0.j        , -0.5       +0.j        ],\n",
       "       [ 0.5       +0.j        ,  0.        -0.5j       ,\n",
       "        -0.5       +0.j        ,  0.        +0.5j       ]])"
      ]
     },
     "execution_count": 136,
     "metadata": {},
     "output_type": "execute_result"
    }
   ],
   "source": [
    "pr1 = np.matmul(test[0],F)\n",
    "zero_checker(pr1)"
   ]
  },
  {
   "cell_type": "code",
   "execution_count": 137,
   "id": "a6bdc63e",
   "metadata": {},
   "outputs": [
    {
     "data": {
      "text/plain": [
       "array([[ 0.8660254 +0.j        ,  0.        +0.28867513j,\n",
       "         0.28867513+0.j        ,  0.        -0.28867513j],\n",
       "       [ 0.        +0.j        ,  0.35355339-0.35355339j,\n",
       "         0.70710678+0.j        ,  0.35355339+0.35355339j],\n",
       "       [ 0.        +0.j        ,  0.61237244+0.20412415j,\n",
       "        -0.40824829+0.j        ,  0.61237244-0.20412415j],\n",
       "       [ 0.5       +0.j        ,  0.        -0.5j       ,\n",
       "        -0.5       +0.j        ,  0.        +0.5j       ]])"
      ]
     },
     "execution_count": 137,
     "metadata": {},
     "output_type": "execute_result"
    }
   ],
   "source": [
    "pr2 = np.matmul(test[1],pr1)\n",
    "zero_checker(pr2)"
   ]
  },
  {
   "cell_type": "code",
   "execution_count": 138,
   "id": "187459b2",
   "metadata": {},
   "outputs": [
    {
     "data": {
      "text/plain": [
       "array([[ 1.        +0.j        ,  0.        +0.j        ,\n",
       "         0.        +0.j        ,  0.        +0.j        ],\n",
       "       [ 0.        +0.j        ,  0.35355339-0.35355339j,\n",
       "         0.70710678+0.j        ,  0.35355339+0.35355339j],\n",
       "       [ 0.        +0.j        ,  0.61237244+0.20412415j,\n",
       "        -0.40824829+0.j        ,  0.61237244-0.20412415j],\n",
       "       [ 0.        +0.j        ,  0.        +0.57735027j,\n",
       "         0.57735027+0.j        ,  0.        -0.57735027j]])"
      ]
     },
     "execution_count": 138,
     "metadata": {},
     "output_type": "execute_result"
    }
   ],
   "source": [
    "pr3 = np.matmul(test[2],pr2)\n",
    "zero_checker(pr3)"
   ]
  },
  {
   "cell_type": "code",
   "execution_count": 139,
   "id": "983efa9c",
   "metadata": {},
   "outputs": [
    {
     "data": {
      "text/plain": [
       "array([[1.        +0.j        , 0.        +0.j        ,\n",
       "        0.        +0.j        , 0.        +0.j        ],\n",
       "       [0.        +0.j        , 0.81649658+0.j        ,\n",
       "        0.        +0.40824829j, 0.40824829+0.j        ],\n",
       "       [0.        +0.j        , 0.        +0.j        ,\n",
       "        0.70710678+0.j        , 0.        +0.70710678j],\n",
       "       [0.        +0.j        , 0.        +0.57735027j,\n",
       "        0.57735027+0.j        , 0.        -0.57735027j]])"
      ]
     },
     "execution_count": 139,
     "metadata": {},
     "output_type": "execute_result"
    }
   ],
   "source": [
    "pr4 = np.matmul(test[3],pr3)\n",
    "zero_checker(pr4)"
   ]
  },
  {
   "cell_type": "code",
   "execution_count": 140,
   "id": "4d01e0ca",
   "metadata": {},
   "outputs": [
    {
     "data": {
      "text/plain": [
       "array([[ 1.        +0.j        ,  0.        +0.j        ,\n",
       "         0.        +0.j        ,  0.        +0.j        ],\n",
       "       [ 0.        +0.j        ,  1.        +0.j        ,\n",
       "         0.        +0.j        ,  0.        +0.j        ],\n",
       "       [ 0.        +0.j        ,  0.        +0.j        ,\n",
       "         0.70710678+0.j        ,  0.        +0.70710678j],\n",
       "       [ 0.        +0.j        ,  0.        +0.j        ,\n",
       "        -0.70710678+0.j        ,  0.        +0.70710678j]])"
      ]
     },
     "execution_count": 140,
     "metadata": {},
     "output_type": "execute_result"
    }
   ],
   "source": [
    "pr5 = np.matmul(test[4],pr4)\n",
    "zero_checker(pr5)"
   ]
  },
  {
   "cell_type": "code",
   "execution_count": 141,
   "id": "875da7c8",
   "metadata": {},
   "outputs": [
    {
     "data": {
      "text/plain": [
       "array([[1.+0.j, 0.+0.j, 0.+0.j, 0.+0.j],\n",
       "       [0.+0.j, 1.+0.j, 0.+0.j, 0.+0.j],\n",
       "       [0.+0.j, 0.+0.j, 1.+0.j, 0.+0.j],\n",
       "       [0.+0.j, 0.+0.j, 0.+0.j, 1.+0.j]])"
      ]
     },
     "execution_count": 141,
     "metadata": {},
     "output_type": "execute_result"
    }
   ],
   "source": [
    "pr6 = np.matmul(test[5],pr5)\n",
    "zero_checker(pr6)"
   ]
  }
 ],
 "metadata": {
  "kernelspec": {
   "display_name": "Python 3 (ipykernel)",
   "language": "python",
   "name": "python3"
  },
  "language_info": {
   "codemirror_mode": {
    "name": "ipython",
    "version": 3
   },
   "file_extension": ".py",
   "mimetype": "text/x-python",
   "name": "python",
   "nbconvert_exporter": "python",
   "pygments_lexer": "ipython3",
   "version": "3.8.10"
  }
 },
 "nbformat": 4,
 "nbformat_minor": 5
}
